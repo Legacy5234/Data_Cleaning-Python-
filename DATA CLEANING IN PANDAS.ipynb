{
 "cells": [
  {
   "attachments": {
    "images%20%282%29.jpeg": {
     "image/jpeg": "[encoded data removed]"
    }
   },
   "cell_type": "markdown",
   "id": "e9f1e0e2",
   "metadata": {},
   "source": [
    "## INTRODUCTION: DATA CLEANING\n",
    "![images%20%282%29.jpeg](attachment:images%20%282%29.jpeg)<br>\n",
    "The marketing team of the client business wants to reach out to customers who agreed to be contacted to get updates about the products and services of the clients business.But the dataset is filled with many irregularities such as duplicates,null values,customers without contact details,customers who don't want to be contacted,and unwanted characters attach to customer names.\n",
    "\n",
    "Hence the need to cleanup the dataset,in other to enable the marketing team swiftly reach out to customer that opted in for updates on products and services for the client business."
   ]
  },
  {
   "cell_type": "code",
   "execution_count": 1,
   "id": "c567f021",
   "metadata": {},
   "outputs": [],
   "source": [
    "import warnings\n",
    "warnings.filterwarnings('ignore')\n",
    "\n",
    "#Importing required libraries\n",
    "import pandas as pd"
   ]
  },
  {
   "cell_type": "code",
   "execution_count": 2,
   "id": "894c0835",
   "metadata": {},
   "outputs": [],
   "source": [
    "#Reading in the data and displaying it\n",
    "df = pd.read_excel('customer call list.xlsx')"
   ]
  },
  {
   "cell_type": "code",
   "execution_count": 3,
   "id": "efda37c4",
   "metadata": {},
   "outputs": [
    {
     "data": {
      "text/html": [
       "<div>\n",
       "<style scoped>\n",
       "    .dataframe tbody tr th:only-of-type {\n",
       "        vertical-align: middle;\n",
       "    }\n",
       "\n",
       "    .dataframe tbody tr th {\n",
       "        vertical-align: top;\n",
       "    }\n",
       "\n",
       "    .dataframe thead th {\n",
       "        text-align: right;\n",
       "    }\n",
       "</style>\n",
       "<table border=\"1\" class=\"dataframe\">\n",
       "  <thead>\n",
       "    <tr style=\"text-align: right;\">\n",
       "      <th></th>\n",
       "      <th>CustomerID</th>\n",
       "      <th>First_Name</th>\n",
       "      <th>Last_Name</th>\n",
       "      <th>Phone_Number</th>\n",
       "      <th>Address</th>\n",
       "      <th>Paying Customer</th>\n",
       "      <th>Do_Not_Contact</th>\n",
       "      <th>Not_Useful_Column</th>\n",
       "    </tr>\n",
       "  </thead>\n",
       "  <tbody>\n",
       "    <tr>\n",
       "      <th>11</th>\n",
       "      <td>1011</td>\n",
       "      <td>Samwise</td>\n",
       "      <td>Gamgee</td>\n",
       "      <td>NaN</td>\n",
       "      <td>612 Shire Lane, Shire</td>\n",
       "      <td>Yes</td>\n",
       "      <td>No</td>\n",
       "      <td>True</td>\n",
       "    </tr>\n",
       "    <tr>\n",
       "      <th>12</th>\n",
       "      <td>1012</td>\n",
       "      <td>Harry</td>\n",
       "      <td>...Potter</td>\n",
       "      <td>7066950392</td>\n",
       "      <td>2394 Hogwarts Avenue</td>\n",
       "      <td>Y</td>\n",
       "      <td>NaN</td>\n",
       "      <td>True</td>\n",
       "    </tr>\n",
       "    <tr>\n",
       "      <th>0</th>\n",
       "      <td>1001</td>\n",
       "      <td>Frodo</td>\n",
       "      <td>Baggins</td>\n",
       "      <td>123-545-5421</td>\n",
       "      <td>123 Shire Lane, Shire</td>\n",
       "      <td>Yes</td>\n",
       "      <td>No</td>\n",
       "      <td>True</td>\n",
       "    </tr>\n",
       "    <tr>\n",
       "      <th>18</th>\n",
       "      <td>1016</td>\n",
       "      <td>Ron</td>\n",
       "      <td>Weasley</td>\n",
       "      <td>123-545-5421</td>\n",
       "      <td>2395 Hogwarts Avenue</td>\n",
       "      <td>No</td>\n",
       "      <td>N</td>\n",
       "      <td>False</td>\n",
       "    </tr>\n",
       "    <tr>\n",
       "      <th>10</th>\n",
       "      <td>1010</td>\n",
       "      <td>Peter</td>\n",
       "      <td>Parker</td>\n",
       "      <td>123-545-5421</td>\n",
       "      <td>25th Main Street, New York</td>\n",
       "      <td>Yes</td>\n",
       "      <td>No</td>\n",
       "      <td>True</td>\n",
       "    </tr>\n",
       "    <tr>\n",
       "      <th>6</th>\n",
       "      <td>1006</td>\n",
       "      <td>Ron</td>\n",
       "      <td>Swanson</td>\n",
       "      <td>304-762-2467</td>\n",
       "      <td>768 City Parkway</td>\n",
       "      <td>Yes</td>\n",
       "      <td>Yes</td>\n",
       "      <td>True</td>\n",
       "    </tr>\n",
       "    <tr>\n",
       "      <th>17</th>\n",
       "      <td>1015</td>\n",
       "      <td>Toby</td>\n",
       "      <td>Flenderson_</td>\n",
       "      <td>304-762-2467</td>\n",
       "      <td>214 HR Avenue</td>\n",
       "      <td>N</td>\n",
       "      <td>No</td>\n",
       "      <td>False</td>\n",
       "    </tr>\n",
       "    <tr>\n",
       "      <th>14</th>\n",
       "      <td>1013</td>\n",
       "      <td>Don</td>\n",
       "      <td>Draper</td>\n",
       "      <td>123-543-2345</td>\n",
       "      <td>2039 Main Street</td>\n",
       "      <td>Yes</td>\n",
       "      <td>N</td>\n",
       "      <td>False</td>\n",
       "    </tr>\n",
       "    <tr>\n",
       "      <th>7</th>\n",
       "      <td>1007</td>\n",
       "      <td>Jeff</td>\n",
       "      <td>Winger</td>\n",
       "      <td>NaN</td>\n",
       "      <td>1209 South Street</td>\n",
       "      <td>No</td>\n",
       "      <td>No</td>\n",
       "      <td>False</td>\n",
       "    </tr>\n",
       "    <tr>\n",
       "      <th>3</th>\n",
       "      <td>1003</td>\n",
       "      <td>Walter</td>\n",
       "      <td>/White</td>\n",
       "      <td>7066950392</td>\n",
       "      <td>298 Drugs Driveway</td>\n",
       "      <td>N</td>\n",
       "      <td>NaN</td>\n",
       "      <td>True</td>\n",
       "    </tr>\n",
       "  </tbody>\n",
       "</table>\n",
       "</div>"
      ],
      "text/plain": [
       "    CustomerID First_Name    Last_Name  Phone_Number  \\\n",
       "11        1011    Samwise       Gamgee           NaN   \n",
       "12        1012      Harry    ...Potter    7066950392   \n",
       "0         1001      Frodo      Baggins  123-545-5421   \n",
       "18        1016        Ron      Weasley  123-545-5421   \n",
       "10        1010      Peter       Parker  123-545-5421   \n",
       "6         1006        Ron      Swanson  304-762-2467   \n",
       "17        1015       Toby  Flenderson_  304-762-2467   \n",
       "14        1013        Don       Draper  123-543-2345   \n",
       "7         1007       Jeff       Winger           NaN   \n",
       "3         1003     Walter       /White    7066950392   \n",
       "\n",
       "                       Address Paying Customer Do_Not_Contact  \\\n",
       "11       612 Shire Lane, Shire             Yes             No   \n",
       "12        2394 Hogwarts Avenue               Y            NaN   \n",
       "0        123 Shire Lane, Shire             Yes             No   \n",
       "18        2395 Hogwarts Avenue              No              N   \n",
       "10  25th Main Street, New York             Yes             No   \n",
       "6             768 City Parkway             Yes            Yes   \n",
       "17               214 HR Avenue               N             No   \n",
       "14            2039 Main Street             Yes              N   \n",
       "7            1209 South Street              No             No   \n",
       "3           298 Drugs Driveway               N            NaN   \n",
       "\n",
       "    Not_Useful_Column  \n",
       "11               True  \n",
       "12               True  \n",
       "0                True  \n",
       "18              False  \n",
       "10               True  \n",
       "6                True  \n",
       "17              False  \n",
       "14              False  \n",
       "7               False  \n",
       "3                True  "
      ]
     },
     "execution_count": 3,
     "metadata": {},
     "output_type": "execute_result"
    }
   ],
   "source": [
    "#Viewing a sample of the dataset\n",
    "df.sample(10)"
   ]
  },
  {
   "cell_type": "markdown",
   "id": "3c348bce",
   "metadata": {},
   "source": [
    "### DEALING WITH DUPLICATES"
   ]
  },
  {
   "cell_type": "code",
   "execution_count": 4,
   "id": "84495b36",
   "metadata": {},
   "outputs": [
    {
     "data": {
      "text/plain": [
       "4"
      ]
     },
     "execution_count": 4,
     "metadata": {},
     "output_type": "execute_result"
    }
   ],
   "source": [
    "#Getting the numbers of rows with duplicates\n",
    "df.duplicated().sum() "
   ]
  },
  {
   "cell_type": "code",
   "execution_count": 5,
   "id": "395b9da3",
   "metadata": {},
   "outputs": [
    {
     "data": {
      "text/html": [
       "<div>\n",
       "<style scoped>\n",
       "    .dataframe tbody tr th:only-of-type {\n",
       "        vertical-align: middle;\n",
       "    }\n",
       "\n",
       "    .dataframe tbody tr th {\n",
       "        vertical-align: top;\n",
       "    }\n",
       "\n",
       "    .dataframe thead th {\n",
       "        text-align: right;\n",
       "    }\n",
       "</style>\n",
       "<table border=\"1\" class=\"dataframe\">\n",
       "  <thead>\n",
       "    <tr style=\"text-align: right;\">\n",
       "      <th></th>\n",
       "      <th>CustomerID</th>\n",
       "      <th>First_Name</th>\n",
       "      <th>Last_Name</th>\n",
       "      <th>Phone_Number</th>\n",
       "      <th>Address</th>\n",
       "      <th>Paying Customer</th>\n",
       "      <th>Do_Not_Contact</th>\n",
       "      <th>Not_Useful_Column</th>\n",
       "    </tr>\n",
       "  </thead>\n",
       "  <tbody>\n",
       "    <tr>\n",
       "      <th>3</th>\n",
       "      <td>1003</td>\n",
       "      <td>Walter</td>\n",
       "      <td>/White</td>\n",
       "      <td>7066950392</td>\n",
       "      <td>298 Drugs Driveway</td>\n",
       "      <td>N</td>\n",
       "      <td>NaN</td>\n",
       "      <td>True</td>\n",
       "    </tr>\n",
       "    <tr>\n",
       "      <th>13</th>\n",
       "      <td>1012</td>\n",
       "      <td>Harry</td>\n",
       "      <td>...Potter</td>\n",
       "      <td>7066950392</td>\n",
       "      <td>2394 Hogwarts Avenue</td>\n",
       "      <td>Y</td>\n",
       "      <td>NaN</td>\n",
       "      <td>True</td>\n",
       "    </tr>\n",
       "    <tr>\n",
       "      <th>16</th>\n",
       "      <td>1014</td>\n",
       "      <td>Leslie</td>\n",
       "      <td>Knope</td>\n",
       "      <td>876|678|3469</td>\n",
       "      <td>343 City Parkway</td>\n",
       "      <td>Yes</td>\n",
       "      <td>No</td>\n",
       "      <td>False</td>\n",
       "    </tr>\n",
       "    <tr>\n",
       "      <th>23</th>\n",
       "      <td>1020</td>\n",
       "      <td>Anakin</td>\n",
       "      <td>Skywalker</td>\n",
       "      <td>876|678|3469</td>\n",
       "      <td>910 Tatooine Road, Tatooine</td>\n",
       "      <td>Yes</td>\n",
       "      <td>N</td>\n",
       "      <td>True</td>\n",
       "    </tr>\n",
       "  </tbody>\n",
       "</table>\n",
       "</div>"
      ],
      "text/plain": [
       "    CustomerID First_Name  Last_Name  Phone_Number  \\\n",
       "3         1003     Walter     /White    7066950392   \n",
       "13        1012      Harry  ...Potter    7066950392   \n",
       "16        1014     Leslie      Knope  876|678|3469   \n",
       "23        1020     Anakin  Skywalker  876|678|3469   \n",
       "\n",
       "                        Address Paying Customer Do_Not_Contact  \\\n",
       "3            298 Drugs Driveway               N            NaN   \n",
       "13         2394 Hogwarts Avenue               Y            NaN   \n",
       "16             343 City Parkway             Yes             No   \n",
       "23  910 Tatooine Road, Tatooine             Yes              N   \n",
       "\n",
       "    Not_Useful_Column  \n",
       "3                True  \n",
       "13               True  \n",
       "16              False  \n",
       "23               True  "
      ]
     },
     "execution_count": 5,
     "metadata": {},
     "output_type": "execute_result"
    }
   ],
   "source": [
    "#To view all duplicated rows\n",
    "df[df.duplicated()]\n",
    "\n",
    "#ALTERNATIVELY:To display either the first or second duplicated row.\n",
    "df[df.duplicated(keep='first')]"
   ]
  },
  {
   "cell_type": "code",
   "execution_count": 6,
   "id": "95fe0693",
   "metadata": {},
   "outputs": [],
   "source": [
    "#Deleting duplicates and resetting the index while deleting the old index.\n",
    "df = df.drop_duplicates().reset_index(drop=True)"
   ]
  },
  {
   "cell_type": "code",
   "execution_count": 7,
   "id": "86866585",
   "metadata": {},
   "outputs": [],
   "source": [
    "#Deleting Columns not needed\n",
    "df = df.drop(columns = 'Not_Useful_Column')"
   ]
  },
  {
   "cell_type": "markdown",
   "id": "1ea09f2e",
   "metadata": {},
   "source": [
    "### LAST NAME COLUMN"
   ]
  },
  {
   "cell_type": "code",
   "execution_count": 8,
   "id": "35afa7ae",
   "metadata": {},
   "outputs": [
    {
     "data": {
      "text/plain": [
       "dtype('O')"
      ]
     },
     "execution_count": 8,
     "metadata": {},
     "output_type": "execute_result"
    }
   ],
   "source": [
    "#Checking the data type of the column\n",
    "df['Last_Name'].dtype"
   ]
  },
  {
   "cell_type": "code",
   "execution_count": 9,
   "id": "bf53c127",
   "metadata": {},
   "outputs": [
    {
     "data": {
      "text/plain": [
       "array(['Baggins', 'Nadir', '/White', 'Schrute', 'Snow', 'Swanson',\n",
       "       '  Winger', 'Holmes', nan, 'Parker', 'Gamgee', '...Potter',\n",
       "       'Draper', 'Knope', 'Flenderson_', 'Weasley', 'Scott', 'Kent',\n",
       "       'Braton', 'Skywalker'], dtype=object)"
      ]
     },
     "execution_count": 9,
     "metadata": {},
     "output_type": "execute_result"
    }
   ],
   "source": [
    "#Filtering for only unique values present in the column\n",
    "df['Last_Name'].unique()"
   ]
  },
  {
   "cell_type": "code",
   "execution_count": 10,
   "id": "702bdfa7",
   "metadata": {},
   "outputs": [],
   "source": [
    "#Using the strip function to clean out any irregularity found within the column\n",
    "df['Last_Name'] = df['Last_Name'].str.strip('123._/')"
   ]
  },
  {
   "cell_type": "markdown",
   "id": "f2565113",
   "metadata": {},
   "source": [
    "### PHONE NUMBER COLUMN"
   ]
  },
  {
   "cell_type": "code",
   "execution_count": 11,
   "id": "4147f1c6",
   "metadata": {},
   "outputs": [
    {
     "data": {
      "text/plain": [
       "dtype('O')"
      ]
     },
     "execution_count": 11,
     "metadata": {},
     "output_type": "execute_result"
    }
   ],
   "source": [
    "#Checking the data type of the column\n",
    "df['Phone_Number'].dtype"
   ]
  },
  {
   "cell_type": "code",
   "execution_count": 12,
   "id": "febadccf",
   "metadata": {},
   "outputs": [
    {
     "data": {
      "text/plain": [
       "array(['123-545-5421', '123/643/9775', 7066950392, '123-543-2345',\n",
       "       '876|678|3469', '304-762-2467', nan, 'N/a'], dtype=object)"
      ]
     },
     "execution_count": 12,
     "metadata": {},
     "output_type": "execute_result"
    }
   ],
   "source": [
    "#Filtering for only unique values present in the column\n",
    "df['Phone_Number'].unique()"
   ]
  },
  {
   "cell_type": "code",
   "execution_count": 13,
   "id": "7d34d7d8",
   "metadata": {},
   "outputs": [],
   "source": [
    "#Use of a regular expression to keep all values stated below and remove values not found in the expression\n",
    "df['Phone_Number'] = df['Phone_Number'].str.replace('[^a-zA-Z0-9]','')"
   ]
  },
  {
   "cell_type": "code",
   "execution_count": 14,
   "id": "5e139b63",
   "metadata": {},
   "outputs": [],
   "source": [
    "#Converting of each value in the column to a string.\n",
    "df['Phone_Number'] = df['Phone_Number'].apply(lambda x: str(x))"
   ]
  },
  {
   "cell_type": "code",
   "execution_count": 15,
   "id": "f9e5f32f",
   "metadata": {},
   "outputs": [],
   "source": [
    "#Using the lambda function to add a - in between the phone numbers that has been formated\n",
    "df['Phone_Number'] = df['Phone_Number'].apply(lambda x: x[0:3] + '-' + x[3:6] + '-' + x[6:10])"
   ]
  },
  {
   "cell_type": "code",
   "execution_count": 16,
   "id": "5c22013d",
   "metadata": {},
   "outputs": [],
   "source": [
    "#Replacing the nan-- value with nothing\n",
    "df['Phone_Number'] = df['Phone_Number'].str.replace('nan--','')"
   ]
  },
  {
   "cell_type": "code",
   "execution_count": 17,
   "id": "0f0051b5",
   "metadata": {},
   "outputs": [],
   "source": [
    "#Replacing the Na-- value with nothing\n",
    "df['Phone_Number'] = df['Phone_Number'].str.replace('Na--','')"
   ]
  },
  {
   "cell_type": "markdown",
   "id": "eecef2d8",
   "metadata": {},
   "source": [
    "## ADDRESS COLUMN"
   ]
  },
  {
   "cell_type": "code",
   "execution_count": 18,
   "id": "a70c5ed0",
   "metadata": {},
   "outputs": [],
   "source": [
    "#Splitting the address column into three columns,Street Address,State, and Zipcode.\n",
    "df[['Street_Address','State','Zip_Code']] = df['Address'].str.split(',',2,expand=True)"
   ]
  },
  {
   "cell_type": "code",
   "execution_count": 19,
   "id": "78b01750",
   "metadata": {},
   "outputs": [],
   "source": [
    "#Deleting the Zip_Code column as it is entirely empty\n",
    "df.drop(columns=['Zip_Code'],inplace=True)"
   ]
  },
  {
   "cell_type": "markdown",
   "id": "001e527c",
   "metadata": {},
   "source": [
    "## PAYING CUSTOMER COLUMN"
   ]
  },
  {
   "cell_type": "code",
   "execution_count": 20,
   "id": "7be7d927",
   "metadata": {},
   "outputs": [
    {
     "data": {
      "text/plain": [
       "array(['Yes', 'No', 'N', 'Y', 'N/a'], dtype=object)"
      ]
     },
     "execution_count": 20,
     "metadata": {},
     "output_type": "execute_result"
    }
   ],
   "source": [
    "#Getting the unique values in the column\n",
    "df['Paying Customer'].unique()"
   ]
  },
  {
   "cell_type": "code",
   "execution_count": 21,
   "id": "14f06e30",
   "metadata": {},
   "outputs": [],
   "source": [
    "#Replacing values with required ones\n",
    "df['Paying Customer'] = df['Paying Customer'].str.replace('Yes','Y')\n",
    "df['Paying Customer'] = df['Paying Customer'].str.replace('No','N')\n",
    "\n",
    "df['Paying Customer'] = df['Paying Customer'].str.replace('Y','Yes')\n",
    "df['Paying Customer'] = df['Paying Customer'].str.replace('N','No')\n",
    "df['Paying Customer'] = df['Paying Customer'].str.replace('No/a','No')"
   ]
  },
  {
   "cell_type": "markdown",
   "id": "346c14d9",
   "metadata": {},
   "source": [
    "## DO NOT CONTACT COLUMN"
   ]
  },
  {
   "cell_type": "code",
   "execution_count": 22,
   "id": "c6e3c886",
   "metadata": {},
   "outputs": [
    {
     "data": {
      "text/plain": [
       "array(['No', 'Yes', nan, 'Y', 'N'], dtype=object)"
      ]
     },
     "execution_count": 22,
     "metadata": {},
     "output_type": "execute_result"
    }
   ],
   "source": [
    "#Getting the unique values in the column\n",
    "df['Do_Not_Contact'].unique()"
   ]
  },
  {
   "cell_type": "code",
   "execution_count": 23,
   "id": "46c2d57b",
   "metadata": {},
   "outputs": [],
   "source": [
    "#Replacing values with required ones\n",
    "df['Do_Not_Contact'] = df['Do_Not_Contact'].str.replace('Yes','Y')\n",
    "df['Do_Not_Contact'] = df['Do_Not_Contact'].str.replace('No','N')\n",
    "\n",
    "df['Do_Not_Contact'] = df['Do_Not_Contact'].str.replace('Y','Yes')\n",
    "df['Do_Not_Contact'] = df['Do_Not_Contact'].str.replace('N','No')"
   ]
  },
  {
   "cell_type": "code",
   "execution_count": 24,
   "id": "a70a325f",
   "metadata": {},
   "outputs": [],
   "source": [
    "#Filling all null values with a blank space\n",
    "df = df.fillna('')"
   ]
  },
  {
   "cell_type": "markdown",
   "id": "48e9e19f",
   "metadata": {},
   "source": [
    "## REMOVING INDIVIDUALS WITHOUT PHONE NUMBER"
   ]
  },
  {
   "cell_type": "code",
   "execution_count": 25,
   "id": "c55521bc",
   "metadata": {},
   "outputs": [],
   "source": [
    "#Removing person's without phone number\n",
    "for x in df.index:\n",
    "    if df.loc[x,'Phone_Number'] == '':\n",
    "        df.drop(x,inplace=True)\n",
    "        \n",
    "#ALTERNATIVELY\n",
    "#df = df.dropna(subset='Phone_Number'), inplace = True)"
   ]
  },
  {
   "cell_type": "code",
   "execution_count": 26,
   "id": "c5cafa51",
   "metadata": {},
   "outputs": [],
   "source": [
    "#Removing person's that wish not to be contacted\n",
    "for x in df.index:\n",
    "    if df.loc[x,'Do_Not_Contact'] == 'Yes':\n",
    "        df.drop(x,inplace=True)"
   ]
  },
  {
   "cell_type": "code",
   "execution_count": 27,
   "id": "cda60b1c",
   "metadata": {},
   "outputs": [],
   "source": [
    "df.reset_index(drop=True,inplace=True)"
   ]
  },
  {
   "cell_type": "code",
   "execution_count": 28,
   "id": "1afee24a",
   "metadata": {},
   "outputs": [],
   "source": [
    "#Deleting the Address Column as all required data has been extracted from it\n",
    "df.drop(columns = 'Address',inplace = True)"
   ]
  },
  {
   "cell_type": "code",
   "execution_count": 29,
   "id": "51d289f2",
   "metadata": {},
   "outputs": [],
   "source": [
    "#Saving the cleaned file as csv\n",
    "df.to_csv('Cleaned Customer Call List.csv', index = False)"
   ]
  },
  {
   "cell_type": "code",
   "execution_count": 30,
   "id": "54a9ecd4",
   "metadata": {},
   "outputs": [
    {
     "data": {
      "text/html": [
       "<div>\n",
       "<style scoped>\n",
       "    .dataframe tbody tr th:only-of-type {\n",
       "        vertical-align: middle;\n",
       "    }\n",
       "\n",
       "    .dataframe tbody tr th {\n",
       "        vertical-align: top;\n",
       "    }\n",
       "\n",
       "    .dataframe thead th {\n",
       "        text-align: right;\n",
       "    }\n",
       "</style>\n",
       "<table border=\"1\" class=\"dataframe\">\n",
       "  <thead>\n",
       "    <tr style=\"text-align: right;\">\n",
       "      <th></th>\n",
       "      <th>CustomerID</th>\n",
       "      <th>First_Name</th>\n",
       "      <th>Last_Name</th>\n",
       "      <th>Phone_Number</th>\n",
       "      <th>Paying Customer</th>\n",
       "      <th>Do_Not_Contact</th>\n",
       "      <th>Street_Address</th>\n",
       "      <th>State</th>\n",
       "    </tr>\n",
       "  </thead>\n",
       "  <tbody>\n",
       "    <tr>\n",
       "      <th>0</th>\n",
       "      <td>1001</td>\n",
       "      <td>Frodo</td>\n",
       "      <td>Baggins</td>\n",
       "      <td>123-545-5421</td>\n",
       "      <td>Yes</td>\n",
       "      <td>No</td>\n",
       "      <td>123 Shire Lane</td>\n",
       "      <td>Shire</td>\n",
       "    </tr>\n",
       "    <tr>\n",
       "      <th>1</th>\n",
       "      <td>1005</td>\n",
       "      <td>Jon</td>\n",
       "      <td>Snow</td>\n",
       "      <td>876-678-3469</td>\n",
       "      <td>Yes</td>\n",
       "      <td>No</td>\n",
       "      <td>123 Dragons Road</td>\n",
       "      <td></td>\n",
       "    </tr>\n",
       "    <tr>\n",
       "      <th>2</th>\n",
       "      <td>1008</td>\n",
       "      <td>Sherlock</td>\n",
       "      <td>Holmes</td>\n",
       "      <td>876-678-3469</td>\n",
       "      <td>No</td>\n",
       "      <td>No</td>\n",
       "      <td>98 Clue Drive</td>\n",
       "      <td></td>\n",
       "    </tr>\n",
       "    <tr>\n",
       "      <th>3</th>\n",
       "      <td>1010</td>\n",
       "      <td>Peter</td>\n",
       "      <td>Parker</td>\n",
       "      <td>123-545-5421</td>\n",
       "      <td>Yes</td>\n",
       "      <td>No</td>\n",
       "      <td>25th Main Street</td>\n",
       "      <td>New York</td>\n",
       "    </tr>\n",
       "    <tr>\n",
       "      <th>4</th>\n",
       "      <td>1013</td>\n",
       "      <td>Don</td>\n",
       "      <td>Draper</td>\n",
       "      <td>123-543-2345</td>\n",
       "      <td>Yes</td>\n",
       "      <td>No</td>\n",
       "      <td>2039 Main Street</td>\n",
       "      <td></td>\n",
       "    </tr>\n",
       "    <tr>\n",
       "      <th>5</th>\n",
       "      <td>1014</td>\n",
       "      <td>Leslie</td>\n",
       "      <td>Knope</td>\n",
       "      <td>876-678-3469</td>\n",
       "      <td>Yes</td>\n",
       "      <td>No</td>\n",
       "      <td>343 City Parkway</td>\n",
       "      <td></td>\n",
       "    </tr>\n",
       "    <tr>\n",
       "      <th>6</th>\n",
       "      <td>1015</td>\n",
       "      <td>Toby</td>\n",
       "      <td>Flenderson</td>\n",
       "      <td>304-762-2467</td>\n",
       "      <td>No</td>\n",
       "      <td>No</td>\n",
       "      <td>214 HR Avenue</td>\n",
       "      <td></td>\n",
       "    </tr>\n",
       "    <tr>\n",
       "      <th>7</th>\n",
       "      <td>1016</td>\n",
       "      <td>Ron</td>\n",
       "      <td>Weasley</td>\n",
       "      <td>123-545-5421</td>\n",
       "      <td>No</td>\n",
       "      <td>No</td>\n",
       "      <td>2395 Hogwarts Avenue</td>\n",
       "      <td></td>\n",
       "    </tr>\n",
       "    <tr>\n",
       "      <th>8</th>\n",
       "      <td>1017</td>\n",
       "      <td>Michael</td>\n",
       "      <td>Scott</td>\n",
       "      <td>123-643-9775</td>\n",
       "      <td>Yes</td>\n",
       "      <td>No</td>\n",
       "      <td>121 Paper Avenue</td>\n",
       "      <td>Pennsylvania</td>\n",
       "    </tr>\n",
       "    <tr>\n",
       "      <th>9</th>\n",
       "      <td>1020</td>\n",
       "      <td>Anakin</td>\n",
       "      <td>Skywalker</td>\n",
       "      <td>876-678-3469</td>\n",
       "      <td>Yes</td>\n",
       "      <td>No</td>\n",
       "      <td>910 Tatooine Road</td>\n",
       "      <td>Tatooine</td>\n",
       "    </tr>\n",
       "  </tbody>\n",
       "</table>\n",
       "</div>"
      ],
      "text/plain": [
       "   CustomerID First_Name   Last_Name  Phone_Number Paying Customer  \\\n",
       "0        1001      Frodo     Baggins  123-545-5421             Yes   \n",
       "1        1005        Jon        Snow  876-678-3469             Yes   \n",
       "2        1008   Sherlock      Holmes  876-678-3469              No   \n",
       "3        1010      Peter      Parker  123-545-5421             Yes   \n",
       "4        1013        Don      Draper  123-543-2345             Yes   \n",
       "5        1014     Leslie       Knope  876-678-3469             Yes   \n",
       "6        1015       Toby  Flenderson  304-762-2467              No   \n",
       "7        1016        Ron     Weasley  123-545-5421              No   \n",
       "8        1017   Michael        Scott  123-643-9775             Yes   \n",
       "9        1020     Anakin   Skywalker  876-678-3469             Yes   \n",
       "\n",
       "  Do_Not_Contact        Street_Address          State  \n",
       "0             No        123 Shire Lane          Shire  \n",
       "1             No      123 Dragons Road                 \n",
       "2             No         98 Clue Drive                 \n",
       "3             No      25th Main Street       New York  \n",
       "4             No      2039 Main Street                 \n",
       "5             No      343 City Parkway                 \n",
       "6             No         214 HR Avenue                 \n",
       "7             No  2395 Hogwarts Avenue                 \n",
       "8             No      121 Paper Avenue   Pennsylvania  \n",
       "9             No     910 Tatooine Road       Tatooine  "
      ]
     },
     "execution_count": 30,
     "metadata": {},
     "output_type": "execute_result"
    }
   ],
   "source": [
    "#Viewing the cleaned up file\n",
    "df"
   ]
  },
  {
   "cell_type": "code",
   "execution_count": null,
   "id": "b4f03179",
   "metadata": {},
   "outputs": [],
   "source": []
  }
 ],
 "metadata": {
  "kernelspec": {
   "display_name": "Python 3 (ipykernel)",
   "language": "python",
   "name": "python3"
  },
  "language_info": {
   "codemirror_mode": {
    "name": "ipython",
    "version": 3
   },
   "file_extension": ".py",
   "mimetype": "text/x-python",
   "name": "python",
   "nbconvert_exporter": "python",
   "pygments_lexer": "ipython3",
   "version": "3.9.13"
  }
 },
 "nbformat": 4,
 "nbformat_minor": 5
}
